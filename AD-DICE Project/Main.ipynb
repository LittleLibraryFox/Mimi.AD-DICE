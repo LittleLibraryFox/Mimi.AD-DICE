{
 "cells": [
  {
   "cell_type": "markdown",
   "metadata": {},
   "source": [
    "## Implementing the AD-DICE model from (Bruin et al., 2007) in Mimi"
   ]
  },
  {
   "cell_type": "markdown",
   "metadata": {},
   "source": [
    "First, we initialize."
   ]
  },
  {
   "cell_type": "code",
   "execution_count": 99,
   "metadata": {},
   "outputs": [
    {
     "name": "stderr",
     "output_type": "stream",
     "text": [
      "\u001b[32m\u001b[1m  Activating\u001b[22m\u001b[39m project at `~/Desktop/adv_env_econ_24/modelling/Amila's Project`\n"
     ]
    }
   ],
   "source": [
    "using Pkg;\n",
    "Pkg.activate(\".\") # activate the environment in the \"modelling\" folder\n",
    "Pkg.instantiate() # install the packages in the environment"
   ]
  },
  {
   "cell_type": "markdown",
   "metadata": {},
   "source": [
    "### 1. Deactivating the MimiDICE"
   ]
  },
  {
   "cell_type": "code",
   "execution_count": 25,
   "metadata": {},
   "outputs": [
    {
     "name": "stderr",
     "output_type": "stream",
     "text": [
      "\u001b[32m\u001b[1m    Updating\u001b[22m\u001b[39m git-repo `https://github.com/felixschaumann/OptMimiDICE2016R2.jl`\n",
      "\u001b[32m\u001b[1m   Resolving\u001b[22m\u001b[39m package versions...\n",
      "\u001b[32m\u001b[1m  No Changes\u001b[22m\u001b[39m to `~/Desktop/adv_env_econ_24/modelling/Amila's Project/Project.toml`\n",
      "\u001b[32m\u001b[1m  No Changes\u001b[22m\u001b[39m to `~/Desktop/adv_env_econ_24/modelling/Amila's Project/Manifest.toml`\n",
      "\u001b[32m\u001b[1m   Resolving\u001b[22m\u001b[39m package versions...\n",
      "\u001b[32m\u001b[1m    Updating\u001b[22m\u001b[39m `~/Desktop/adv_env_econ_24/modelling/Amila's Project/Project.toml`\n",
      "  \u001b[90m[e4e893b0] \u001b[39m\u001b[92m+ Mimi v1.5.3\u001b[39m\n",
      "\u001b[32m\u001b[1m  No Changes\u001b[22m\u001b[39m to `~/Desktop/adv_env_econ_24/modelling/Amila's Project/Manifest.toml`\n"
     ]
    }
   ],
   "source": [
    "#Pkg.rm(\"MimiDICE2016R2\") #run this whenever MimiDICE2016R2 is installed\n",
    "Pkg.add(url=\"https://github.com/felixschaumann/OptMimiDICE2016R2.jl\")\n",
    "Pkg.add(\"Mimi\")"
   ]
  },
  {
   "cell_type": "markdown",
   "metadata": {},
   "source": [
    "We check if it worked. Mimi and OptMimiDICE2016R2 should show up."
   ]
  },
  {
   "cell_type": "code",
   "execution_count": 109,
   "metadata": {},
   "outputs": [
    {
     "name": "stdout",
     "output_type": "stream",
     "text": [
      "\u001b[32m\u001b[1mStatus\u001b[22m\u001b[39m `~/Desktop/adv_env_econ_24/modelling/Amila's Project/Project.toml`\n",
      "  \u001b[90m[e4e893b0] \u001b[39mMimi v1.5.3\n",
      "  \u001b[90m[f1883be1] \u001b[39mOptMimiDICE2016R2 v0.1.1-DEV `https://github.com/felixschaumann/OptMimiDICE2016R2.jl#main`\n"
     ]
    }
   ],
   "source": [
    "Pkg.status()"
   ]
  },
  {
   "cell_type": "markdown",
   "metadata": {},
   "source": [
    "### 2. Implementing with policy variable"
   ]
  },
  {
   "cell_type": "code",
   "execution_count": 101,
   "metadata": {},
   "outputs": [],
   "source": [
    "using Mimi\n",
    "using OptMimiDICE2016R2"
   ]
  },
  {
   "cell_type": "code",
   "execution_count": 103,
   "metadata": {},
   "outputs": [],
   "source": [
    "m_opt = OptMimiDICE2016R2.get_model()\n",
    "run(m_opt)"
   ]
  },
  {
   "cell_type": "markdown",
   "metadata": {},
   "source": [
    "We include the modified damages:"
   ]
  },
  {
   "cell_type": "code",
   "execution_count": 110,
   "metadata": {},
   "outputs": [],
   "source": [
    "include(\"./modified_damages_adapt.jl\")\n",
    "replace!(m_opt, :damages => modified_damages_adapt);"
   ]
  },
  {
   "cell_type": "markdown",
   "metadata": {},
   "source": [
    "And then set the parameters as calibrated in the paper:"
   ]
  },
  {
   "cell_type": "code",
   "execution_count": 111,
   "metadata": {},
   "outputs": [
    {
     "data": {
      "text/plain": [
       "true"
      ]
     },
     "metadata": {},
     "output_type": "display_data"
    }
   ],
   "source": [
    "update_param!(m_opt, :damages, :a1, 0.0012)\n",
    "update_param!(m_opt, :damages, :a2, 0.0023)\n",
    "update_param!(m_opt, :damages, :a3, 2.32)\n",
    "update_param!(m_opt, :damages, :g1, 0.115)\n",
    "update_param!(m_opt, :damages, :g2, 3.60)\n",
    "update_param!(m_opt, :damages, :PROT, 0.33 .* ones(100))"
   ]
  },
  {
   "cell_type": "code",
   "execution_count": 112,
   "metadata": {},
   "outputs": [],
   "source": [
    "run(m_opt)"
   ]
  },
  {
   "cell_type": "code",
   "execution_count": 113,
   "metadata": {},
   "outputs": [
    {
     "name": "stdout",
     "output_type": "stream",
     "text": [
      " 62.856059 seconds (209.84 M allocations: 8.830 GiB, 0.80% gc time)\n"
     ]
    },
    {
     "data": {
      "text/plain": [
       "(m = Mimi.Model\n",
       "  Module: Mimi\n",
       "  Components:\n",
       "    ComponentId(OptMimiDICE2016R2.totalfactorproductivity)\n",
       "    ComponentId(OptMimiDICE2016R2.grosseconomy)\n",
       "    ComponentId(OptMimiDICE2016R2.emissions)\n",
       "    ComponentId(OptMimiDICE2016R2.co2cycle)\n",
       "    ComponentId(OptMimiDICE2016R2.radiativeforcing)\n",
       "    ComponentId(OptMimiDICE2016R2.climatedynamics)\n",
       "    ComponentId(Main.modified_damages_adapt)\n",
       "    ComponentId(OptMimiDICE2016R2.neteconomy)\n",
       "    ComponentId(OptMimiDICE2016R2.welfare)\n",
       "  Dimensions:\n",
       "    time => [2015, 2020, 2025, 2030, 2035, 2040, 2045, 2050, 2055, 2060, 2065, 2070, 2075, 2080, 2085, 2090, 2095, 2100, 2105, 2110, 2115, 2120, 2125, 2130, 2135, 2140, 2145, 2150, 2155, 2160, 2165, 2170, 2175, 2180, 2185, 2190, 2195, 2200, 2205, 2210, 2215, 2220, 2225, 2230, 2235, 2240, 2245, 2250, 2255, 2260, 2265, 2270, 2275, 2280, 2285, 2290, 2295, 2300, 2305, 2310, 2315, 2320, 2325, 2330, 2335, 2340, 2345, 2350, 2355, 2360, 2365, 2370, 2375, 2380, 2385, 2390, 2395, 2400, 2405, 2410, 2415, 2420, 2425, 2430, 2435, 2440, 2445, 2450, 2455, 2460, 2465, 2470, 2475, 2480, 2485, 2490, 2495, 2500, 2505, 2510]\n",
       "  Internal Connections:\n",
       "    Mimi.InternalParameterConnection\n",
       "  src_comp_path: ComponentPath(Symbol(\"##ModelDef#984\"), :totalfactorproductivity)\n",
       "  src_var_name: :AL\n",
       "  dst_comp_path: ComponentPath(Symbol(\"##ModelDef#984\"), :grosseconomy)\n",
       "  dst_par_name: :AL\n",
       "  ignoreunits: false\n",
       "  backup: nothing\n",
       "  backup_offset: nothing\n",
       "    Mimi.InternalParameterConnection\n",
       "  src_comp_path: ComponentPath(Symbol(\"##ModelDef#984\"), :neteconomy)\n",
       "  src_var_name: :I\n",
       "  dst_comp_path: ComponentPath(Symbol(\"##ModelDef#984\"), :grosseconomy)\n",
       "  dst_par_name: :I\n",
       "  ignoreunits: false\n",
       "  backup: nothing\n",
       "  backup_offset: nothing\n",
       "    Mimi.InternalParameterConnection\n",
       "  src_comp_path: ComponentPath(Symbol(\"##ModelDef#984\"), :grosseconomy)\n",
       "  src_var_name: :YGROSS\n",
       "  dst_comp_path: ComponentPath(Symbol(\"##ModelDef#984\"), :emissions)\n",
       "  dst_par_name: :YGROSS\n",
       "  ignoreunits: false\n",
       "  backup: nothing\n",
       "  backup_offset: nothing\n",
       "    Mimi.InternalParameterConnection\n",
       "  src_comp_path: ComponentPath(Symbol(\"##ModelDef#984\"), :emissions)\n",
       "  src_var_name: :E\n",
       "  dst_comp_path: ComponentPath(Symbol(\"##ModelDef#984\"), :co2cycle)\n",
       "  dst_par_name: :E\n",
       "  ignoreunits: false\n",
       "  backup: nothing\n",
       "  backup_offset: nothing\n",
       "    Mimi.InternalParameterConnection\n",
       "  src_comp_path: ComponentPath(Symbol(\"##ModelDef#984\"), :co2cycle)\n",
       "  src_var_name: :MAT\n",
       "  dst_comp_path: ComponentPath(Symbol(\"##ModelDef#984\"), :radiativeforcing)\n",
       "  dst_par_name: :MAT\n",
       "  ignoreunits: false\n",
       "  backup: nothing\n",
       "  backup_offset: nothing\n",
       "    Mimi.InternalParameterConnection\n",
       "  src_comp_path: ComponentPath(Symbol(\"##ModelDef#984\"), :radiativeforcing)\n",
       "  src_var_name: :FORC\n",
       "  dst_comp_path: ComponentPath(Symbol(\"##ModelDef#984\"), :climatedynamics)\n",
       "  dst_par_name: :FORC\n",
       "  ignoreunits: false\n",
       "  backup: nothing\n",
       "  backup_offset: nothing\n",
       "    Mimi.InternalParameterConnection\n",
       "  src_comp_path: ComponentPath(Symbol(\"##ModelDef#984\"), :climatedynamics)\n",
       "  src_var_name: :TATM\n",
       "  dst_comp_path: ComponentPath(Symbol(\"##ModelDef#984\"), :damages)\n",
       "  dst_par_name: :TATM\n",
       "  ignoreunits: false\n",
       "  backup: nothing\n",
       "  backup_offset: nothing\n",
       "    Mimi.InternalParameterConnection\n",
       "  src_comp_path: ComponentPath(Symbol(\"##ModelDef#984\"), :grosseconomy)\n",
       "  src_var_name: :YGROSS\n",
       "  dst_comp_path: ComponentPath(Symbol(\"##ModelDef#984\"), :damages)\n",
       "  dst_par_name: :YGROSS\n",
       "  ignoreunits: false\n",
       "  backup: nothing\n",
       "  backup_offset: nothing\n",
       "    Mimi.InternalParameterConnection\n",
       "  src_comp_path: ComponentPath(Symbol(\"##ModelDef#984\"), :grosseconomy)\n",
       "  src_var_name: :YGROSS\n",
       "  dst_comp_path: ComponentPath(Symbol(\"##ModelDef#984\"), :neteconomy)\n",
       "  dst_par_name: :YGROSS\n",
       "  ignoreunits: false\n",
       "  backup: nothing\n",
       "  backup_offset: nothing\n",
       "    Mimi.InternalParameterConnection\n",
       "  src_comp_path: ComponentPath(Symbol(\"##ModelDef#984\"), :damages)\n",
       "  src_var_name: :DAMAGES\n",
       "  dst_comp_path: ComponentPath(Symbol(\"##ModelDef#984\"), :neteconomy)\n",
       "  dst_par_name: :DAMAGES\n",
       "  ignoreunits: false\n",
       "  backup: nothing\n",
       "  backup_offset: nothing\n",
       "    Mimi.InternalParameterConnection\n",
       "  src_comp_path: ComponentPath(Symbol(\"##ModelDef#984\"), :emissions)\n",
       "  src_var_name: :SIGMA\n",
       "  dst_comp_path: ComponentPath(Symbol(\"##ModelDef#984\"), :neteconomy)\n",
       "  dst_par_name: :SIGMA\n",
       "  ignoreunits: false\n",
       "  backup: nothing\n",
       "  backup_offset: nothing\n",
       "    Mimi.InternalParameterConnection\n",
       "  src_comp_path: ComponentPath(Symbol(\"##ModelDef#984\"), :neteconomy)\n",
       "  src_var_name: :CPC\n",
       "  dst_comp_path: ComponentPath(Symbol(\"##ModelDef#984\"), :welfare)\n",
       "  dst_par_name: :CPC\n",
       "  ignoreunits: false\n",
       "  backup: nothing\n",
       "  backup_offset: nothing\n",
       "  External Connections:\n",
       "    Mimi.ExternalParameterConnection\n",
       "  comp_path: ComponentPath(Symbol(\"##ModelDef#984\"), :totalfactorproductivity)\n",
       "  param_name: :a0\n",
       "  model_param_name: Symbol(\"##985\")\n",
       "    Mimi.ExternalParameterConnection\n",
       "  comp_path: ComponentPath(Symbol(\"##ModelDef#984\"), :totalfactorproductivity)\n",
       "  param_name: :ga0\n",
       "  model_param_name: Symbol(\"##986\")\n",
       "    Mimi.ExternalParameterConnection\n",
       "  comp_path: ComponentPath(Symbol(\"##ModelDef#984\"), :totalfactorproductivity)\n",
       "  param_name: :dela\n",
       "  model_param_name: Symbol(\"##987\")\n",
       "    Mimi.ExternalParameterConnection\n",
       "  comp_path: ComponentPath(Symbol(\"##ModelDef#984\"), :grosseconomy)\n",
       "  param_name: :dk\n",
       "  model_param_name: Symbol(\"##991\")\n",
       "    Mimi.ExternalParameterConnection\n",
       "  comp_path: ComponentPath(Symbol(\"##ModelDef#984\"), :grosseconomy)\n",
       "  param_name: :gama\n",
       "  model_param_name: Symbol(\"##992\")\n",
       "    Mimi.ExternalParameterConnection\n",
       "  comp_path: ComponentPath(Symbol(\"##ModelDef#984\"), :grosseconomy)\n",
       "  param_name: :k0\n",
       "  model_param_name: Symbol(\"##993\")\n",
       "    Mimi.ExternalParameterConnection\n",
       "  comp_path: ComponentPath(Symbol(\"##ModelDef#984\"), :emissions)\n",
       "  param_name: :gsigma1\n",
       "  model_param_name: Symbol(\"##994\")\n",
       "    Mimi.ExternalParameterConnection\n",
       "  comp_path: ComponentPath(Symbol(\"##ModelDef#984\"), :emissions)\n",
       "  param_name: :dsig\n",
       "  model_param_name: Symbol(\"##995\")\n",
       "    Mimi.ExternalParameterConnection\n",
       "  comp_path: ComponentPath(Symbol(\"##ModelDef#984\"), :emissions)\n",
       "  param_name: :eland0\n",
       "  model_param_name: Symbol(\"##996\")\n",
       "    Mimi.ExternalParameterConnection\n",
       "  comp_path: ComponentPath(Symbol(\"##ModelDef#984\"), :emissions)\n",
       "  param_name: :deland\n",
       "  model_param_name: Symbol(\"##997\")\n",
       "    Mimi.ExternalParameterConnection\n",
       "  comp_path: ComponentPath(Symbol(\"##ModelDef#984\"), :emissions)\n",
       "  param_name: :e0\n",
       "  model_param_name: Symbol(\"##998\")\n",
       "    Mimi.ExternalParameterConnection\n",
       "  comp_path: ComponentPath(Symbol(\"##ModelDef#984\"), :emissions)\n",
       "  param_name: :cca0\n",
       "  model_param_name: Symbol(\"##1001\")\n",
       "    Mimi.ExternalParameterConnection\n",
       "  comp_path: ComponentPath(Symbol(\"##ModelDef#984\"), :emissions)\n",
       "  param_name: :cumetree0\n",
       "  model_param_name: Symbol(\"##1002\")\n",
       "    Mimi.ExternalParameterConnection\n",
       "  comp_path: ComponentPath(Symbol(\"##ModelDef#984\"), :co2cycle)\n",
       "  param_name: :b12\n",
       "  model_param_name: Symbol(\"##1003\")\n",
       "    Mimi.ExternalParameterConnection\n",
       "  comp_path: ComponentPath(Symbol(\"##ModelDef#984\"), :co2cycle)\n",
       "  param_name: :b23\n",
       "  model_param_name: Symbol(\"##1004\")\n",
       "    Mimi.ExternalParameterConnection\n",
       "  comp_path: ComponentPath(Symbol(\"##ModelDef#984\"), :co2cycle)\n",
       "  param_name: :mateq\n",
       "  model_param_name: Symbol(\"##1005\")\n",
       "    Mimi.ExternalParameterConnection\n",
       "  comp_path: ComponentPath(Symbol(\"##ModelDef#984\"), :co2cycle)\n",
       "  param_name: :mueq\n",
       "  model_param_name: Symbol(\"##1006\")\n",
       "    Mimi.ExternalParameterConnection\n",
       "  comp_path: ComponentPath(Symbol(\"##ModelDef#984\"), :co2cycle)\n",
       "  param_name: :mleq\n",
       "  model_param_name: Symbol(\"##1007\")\n",
       "    Mimi.ExternalParameterConnection\n",
       "  comp_path: ComponentPath(Symbol(\"##ModelDef#984\"), :co2cycle)\n",
       "  param_name: :mat0\n",
       "  model_param_name: Symbol(\"##1009\")\n",
       "    Mimi.ExternalParameterConnection\n",
       "  comp_path: ComponentPath(Symbol(\"##ModelDef#984\"), :co2cycle)\n",
       "  param_name: :ml0\n",
       "  model_param_name: Symbol(\"##1010\")\n",
       "    Mimi.ExternalParameterConnection\n",
       "  comp_path: ComponentPath(Symbol(\"##ModelDef#984\"), :co2cycle)\n",
       "  param_name: :mu0\n",
       "  model_param_name: Symbol(\"##1011\")\n",
       "    Mimi.ExternalParameterConnection\n",
       "  comp_path: ComponentPath(Symbol(\"##ModelDef#984\"), :radiativeforcing)\n",
       "  param_name: :eqmat\n",
       "  model_param_name: Symbol(\"##1013\")\n",
       "    Mimi.ExternalParameterConnection\n",
       "  comp_path: ComponentPath(Symbol(\"##ModelDef#984\"), :radiativeforcing)\n",
       "  param_name: :fex0\n",
       "  model_param_name: Symbol(\"##1015\")\n",
       "    Mimi.ExternalParameterConnection\n",
       "  comp_path: ComponentPath(Symbol(\"##ModelDef#984\"), :radiativeforcing)\n",
       "  param_name: :fex1\n",
       "  model_param_name: Symbol(\"##1016\")\n",
       "    Mimi.ExternalParameterConnection\n",
       "  comp_path: ComponentPath(Symbol(\"##ModelDef#984\"), :climatedynamics)\n",
       "  param_name: :t2xco2\n",
       "  model_param_name: Symbol(\"##1019\")\n",
       "    Mimi.ExternalParameterConnection\n",
       "  comp_path: ComponentPath(Symbol(\"##ModelDef#984\"), :climatedynamics)\n",
       "  param_name: :tatm0\n",
       "  model_param_name: Symbol(\"##1020\")\n",
       "    Mimi.ExternalParameterConnection\n",
       "  comp_path: ComponentPath(Symbol(\"##ModelDef#984\"), :climatedynamics)\n",
       "  param_name: :tocean0\n",
       "  model_param_name: Symbol(\"##1021\")\n",
       "    Mimi.ExternalParameterConnection\n",
       "  comp_path: ComponentPath(Symbol(\"##ModelDef#984\"), :climatedynamics)\n",
       "  param_name: :c1\n",
       "  model_param_name: Symbol(\"##1022\")\n",
       "    Mimi.ExternalParameterConnection\n",
       "  comp_path: ComponentPath(Symbol(\"##ModelDef#984\"), :climatedynamics)\n",
       "  param_name: :c3\n",
       "  model_param_name: Symbol(\"##1023\")\n",
       "    Mimi.ExternalParameterConnection\n",
       "  comp_path: ComponentPath(Symbol(\"##ModelDef#984\"), :climatedynamics)\n",
       "  param_name: :c4\n",
       "  model_param_name: Symbol(\"##1024\")\n",
       "    Mimi.ExternalParameterConnection\n",
       "  comp_path: ComponentPath(Symbol(\"##ModelDef#984\"), :damages)\n",
       "  param_name: :a1\n",
       "  model_param_name: Symbol(\"##1027\")\n",
       "    Mimi.ExternalParameterConnection\n",
       "  comp_path: ComponentPath(Symbol(\"##ModelDef#984\"), :damages)\n",
       "  param_name: :a2\n",
       "  model_param_name: Symbol(\"##1028\")\n",
       "    Mimi.ExternalParameterConnection\n",
       "  comp_path: ComponentPath(Symbol(\"##ModelDef#984\"), :damages)\n",
       "  param_name: :a3\n",
       "  model_param_name: Symbol(\"##1029\")\n",
       "    Mimi.ExternalParameterConnection\n",
       "  comp_path: ComponentPath(Symbol(\"##ModelDef#984\"), :neteconomy)\n",
       "  param_name: :S\n",
       "  model_param_name: Symbol(\"##1034\")\n",
       "    Mimi.ExternalParameterConnection\n",
       "  comp_path: ComponentPath(Symbol(\"##ModelDef#984\"), :neteconomy)\n",
       "  param_name: :expcost2\n",
       "  model_param_name: Symbol(\"##1036\")\n",
       "    Mimi.ExternalParameterConnection\n",
       "  comp_path: ComponentPath(Symbol(\"##ModelDef#984\"), :neteconomy)\n",
       "  param_name: :pback\n",
       "  model_param_name: Symbol(\"##1037\")\n",
       "    Mimi.ExternalParameterConnection\n",
       "  comp_path: ComponentPath(Symbol(\"##ModelDef#984\"), :neteconomy)\n",
       "  param_name: :gback\n",
       "  model_param_name: Symbol(\"##1038\")\n",
       "    Mimi.ExternalParameterConnection\n",
       "  comp_path: ComponentPath(Symbol(\"##ModelDef#984\"), :welfare)\n",
       "  param_name: :rr\n",
       "  model_param_name: Symbol(\"##1041\")\n",
       "    Mimi.ExternalParameterConnection\n",
       "  comp_path: ComponentPath(Symbol(\"##ModelDef#984\"), :welfare)\n",
       "  param_name: :elasmu\n",
       "  model_param_name: Symbol(\"##1042\")\n",
       "    Mimi.ExternalParameterConnection\n",
       "  comp_path: ComponentPath(Symbol(\"##ModelDef#984\"), :welfare)\n",
       "  param_name: :scale1\n",
       "  model_param_name: Symbol(\"##1043\")\n",
       "    Mimi.ExternalParameterConnection\n",
       "  comp_path: ComponentPath(Symbol(\"##ModelDef#984\"), :welfare)\n",
       "  param_name: :scale2\n",
       "  model_param_name: Symbol(\"##1044\")\n",
       "    Mimi.ExternalParameterConnection\n",
       "  comp_path: ComponentPath(Symbol(\"##ModelDef#984\"), :climatedynamics)\n",
       "  param_name: :fco22x\n",
       "  model_param_name: :fco22x\n",
       "    Mimi.ExternalParameterConnection\n",
       "  comp_path: ComponentPath(Symbol(\"##ModelDef#984\"), :radiativeforcing)\n",
       "  param_name: :fco22x\n",
       "  model_param_name: :fco22x\n",
       "    Mimi.ExternalParameterConnection\n",
       "  comp_path: ComponentPath(Symbol(\"##ModelDef#984\"), :grosseconomy)\n",
       "  param_name: :l\n",
       "  model_param_name: :l\n",
       "    Mimi.ExternalParameterConnection\n",
       "  comp_path: ComponentPath(Symbol(\"##ModelDef#984\"), :neteconomy)\n",
       "  param_name: :l\n",
       "  model_param_name: :l\n",
       "    Mimi.ExternalParameterConnection\n",
       "  comp_path: ComponentPath(Symbol(\"##ModelDef#984\"), :welfare)\n",
       "  param_name: :l\n",
       "  model_param_name: :l\n",
       "    Mimi.ExternalParameterConnection\n",
       "  comp_path: ComponentPath(Symbol(\"##ModelDef#984\"), :neteconomy)\n",
       "  param_name: :MIU\n",
       "  model_param_name: :MIU\n",
       "    Mimi.ExternalParameterConnection\n",
       "  comp_path: ComponentPath(Symbol(\"##ModelDef#984\"), :emissions)\n",
       "  param_name: :MIU\n",
       "  model_param_name: :MIU\n",
       "    Mimi.ExternalParameterConnection\n",
       "  comp_path: ComponentPath(Symbol(\"##ModelDef#984\"), :damages)\n",
       "  param_name: :g1\n",
       "  model_param_name: Symbol(\"##1045\")\n",
       "    Mimi.ExternalParameterConnection\n",
       "  comp_path: ComponentPath(Symbol(\"##ModelDef#984\"), :damages)\n",
       "  param_name: :g2\n",
       "  model_param_name: Symbol(\"##1046\")\n",
       "    Mimi.ExternalParameterConnection\n",
       "  comp_path: ComponentPath(Symbol(\"##ModelDef#984\"), :damages)\n",
       "  param_name: :PROT\n",
       "  model_param_name: Symbol(\"##1047\")\n",
       "  Backups: Symbol[]\n",
       "  Number type: Float64\n",
       "  Built: true\n",
       ", diagnostic = Dict{String, Any}(\"Maximum objective value\" => 4499.830339469523, \"Optimised policy economic vector\" => [0.039, 0.20067344896658396, 0.22706357403006727, 0.2570533471282038, 0.2886390181709927, 0.32310096504191044, 0.3592177332684128, 0.3985451214370823, 0.4399989644773694, 0.4848131757815406  …  0.24901296135098855, 0.24716948142256348, 0.24537804837070823, 0.24146715724165912, 0.23177132481662982, 0.2151449357063283, 0.19076582977351747, 0.13956451424101068, 0.010667929755628856, 0.0], \"Convergence result\" => :FTOL_REACHED))"
      ]
     },
     "metadata": {},
     "output_type": "display_data"
    }
   ],
   "source": [
    "@time m_opt, diagn = OptMimiDICE2016R2.optimise_model(m_opt)"
   ]
  },
  {
   "cell_type": "code",
   "execution_count": 108,
   "metadata": {},
   "outputs": [
    {
     "data": {
      "text/plain": [
       "ComponentDef id:3553601901932265511\n",
       "  parent: Nothing(:nothing:)\n",
       "  name: :welfare\n",
       "  comp_id: ComponentId(OptMimiDICE2016R2.welfare)\n",
       "  comp_path: ComponentPath(:welfare,)\n",
       "  dim_dict: OrderedCollections.OrderedDict{Symbol, Union{Nothing, Mimi.Dimension}}\n",
       "    time => nothing\n",
       "  first: nothing\n",
       "  last: nothing\n",
       "  is_uniform: true\n",
       "  namespace:\n",
       "    CEMUTOTPER: Mimi.VariableDef\n",
       "    CUMCEMUTOTPER: Mimi.VariableDef\n",
       "    PERIODU: Mimi.VariableDef\n",
       "    UTILITY: Mimi.VariableDef\n",
       "    CPC: Mimi.ParameterDef\n",
       "    l: Mimi.ParameterDef\n",
       "    rr: Mimi.ParameterDef\n",
       "    elasmu: Mimi.ParameterDef\n",
       "    scale1: Mimi.ParameterDef\n",
       "    scale2: Mimi.ParameterDef"
      ]
     },
     "metadata": {},
     "output_type": "display_data"
    }
   ],
   "source": [
    "OptMimiDICE2016R2.welfare"
   ]
  },
  {
   "cell_type": "code",
   "execution_count": 98,
   "metadata": {},
   "outputs": [
    {
     "ename": "MethodError",
     "evalue": "MethodError: no method matching explore(::Model, ::Model)\n\nClosest candidates are:\n  explore(::Model)\n   @ Mimi ~/.julia/packages/Mimi/ve6WQ/src/explorer/explore.jl:27\n",
     "output_type": "error",
     "traceback": [
      "MethodError: no method matching explore(::Model, ::Model)\n",
      "\n",
      "Closest candidates are:\n",
      "  explore(::Model)\n",
      "   @ Mimi ~/.julia/packages/Mimi/ve6WQ/src/explorer/explore.jl:27\n",
      "\n",
      "\n",
      "Stacktrace:\n",
      " [1] top-level scope\n",
      "   @ ~/Desktop/adv_env_econ_24/modelling/Amila's Project/Amila.ipynb:1"
     ]
    }
   ],
   "source": [
    "explore(m_opt)"
   ]
  }
 ],
 "metadata": {
  "kernelspec": {
   "display_name": "Julia 1.10.2",
   "language": "julia",
   "name": "julia-1.10"
  },
  "language_info": {
   "file_extension": ".jl",
   "mimetype": "application/julia",
   "name": "julia",
   "version": "1.10.2"
  }
 },
 "nbformat": 4,
 "nbformat_minor": 2
}
