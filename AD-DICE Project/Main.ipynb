{
 "cells": [
  {
   "cell_type": "markdown",
   "metadata": {},
   "source": [
    "## Implementing the AD-DICE model from (Bruin et al., 2007) in Mimi"
   ]
  },
  {
   "cell_type": "markdown",
   "metadata": {},
   "source": [
    "First, we initialize."
   ]
  },
  {
   "cell_type": "code",
   "execution_count": 1,
   "metadata": {},
   "outputs": [
    {
     "name": "stderr",
     "output_type": "stream",
     "text": [
      "\u001b[32m\u001b[1m  Activating\u001b[22m\u001b[39m project at `~/Desktop/adv_env_econ_24/modelling/Amila's Project`\n"
     ]
    }
   ],
   "source": [
    "using Pkg;\n",
    "Pkg.activate(\".\") # activate the environment in the \"modelling\" folder\n",
    "Pkg.instantiate() # install the packages in the environment"
   ]
  },
  {
   "cell_type": "markdown",
   "metadata": {},
   "source": [
    "### 1. Deactivating the MimiDICE"
   ]
  },
  {
   "cell_type": "code",
   "execution_count": 2,
   "metadata": {},
   "outputs": [
    {
     "name": "stderr",
     "output_type": "stream",
     "text": [
      "\u001b[32m\u001b[1m    Updating\u001b[22m\u001b[39m git-repo `https://github.com/felixschaumann/OptMimiDICE2016R2.jl`\n",
      "\u001b[32m\u001b[1m   Resolving\u001b[22m\u001b[39m package versions...\n",
      "\u001b[32m\u001b[1m  No Changes\u001b[22m\u001b[39m to `~/Desktop/adv_env_econ_24/modelling/Amila's Project/Project.toml`\n",
      "\u001b[32m\u001b[1m  No Changes\u001b[22m\u001b[39m to `~/Desktop/adv_env_econ_24/modelling/Amila's Project/Manifest.toml`\n",
      "\u001b[32m\u001b[1m   Resolving\u001b[22m\u001b[39m package versions...\n",
      "\u001b[32m\u001b[1m  No Changes\u001b[22m\u001b[39m to `~/Desktop/adv_env_econ_24/modelling/Amila's Project/Project.toml`\n",
      "\u001b[32m\u001b[1m  No Changes\u001b[22m\u001b[39m to `~/Desktop/adv_env_econ_24/modelling/Amila's Project/Manifest.toml`\n"
     ]
    }
   ],
   "source": [
    "#Pkg.rm(\"MimiDICE2016R2\") #run this whenever MimiDICE2016R2 is installed\n",
    "Pkg.add(url=\"https://github.com/felixschaumann/OptMimiDICE2016R2.jl\")\n",
    "Pkg.add(\"Mimi\")"
   ]
  },
  {
   "cell_type": "markdown",
   "metadata": {},
   "source": [
    "We check if it worked. Mimi and OptMimiDICE2016R2 should show up."
   ]
  },
  {
   "cell_type": "code",
   "execution_count": 3,
   "metadata": {},
   "outputs": [
    {
     "name": "stdout",
     "output_type": "stream",
     "text": [
      "\u001b[32m\u001b[1mStatus\u001b[22m\u001b[39m `~/Desktop/adv_env_econ_24/modelling/Amila's Project/Project.toml`\n",
      "  \u001b[90m[e4e893b0] \u001b[39mMimi v1.5.3\n",
      "  \u001b[90m[f1883be1] \u001b[39mOptMimiDICE2016R2 v0.1.1-DEV `https://github.com/felixschaumann/OptMimiDICE2016R2.jl#main`\n"
     ]
    }
   ],
   "source": [
    "Pkg.status()"
   ]
  },
  {
   "cell_type": "markdown",
   "metadata": {},
   "source": [
    "### 2. Implementing with policy variable"
   ]
  },
  {
   "cell_type": "code",
   "execution_count": 4,
   "metadata": {},
   "outputs": [],
   "source": [
    "using Mimi\n",
    "using OptMimiDICE2016R2"
   ]
  },
  {
   "cell_type": "code",
   "execution_count": 5,
   "metadata": {},
   "outputs": [],
   "source": [
    "m_opt = OptMimiDICE2016R2.get_model()\n",
    "run(m_opt)"
   ]
  },
  {
   "cell_type": "markdown",
   "metadata": {},
   "source": [
    "We include the modified damages:"
   ]
  },
  {
   "cell_type": "code",
   "execution_count": 6,
   "metadata": {},
   "outputs": [],
   "source": [
    "include(\"./modified_damages_adapt.jl\")\n",
    "replace!(m_opt, :damages => modified_damages_adapt);"
   ]
  },
  {
   "cell_type": "markdown",
   "metadata": {},
   "source": [
    "And then set the parameters as calibrated in the paper:"
   ]
  },
  {
   "cell_type": "code",
   "execution_count": 7,
   "metadata": {},
   "outputs": [
    {
     "data": {
      "text/plain": [
       "true"
      ]
     },
     "metadata": {},
     "output_type": "display_data"
    }
   ],
   "source": [
    "update_param!(m_opt, :damages, :a1, 0.0012)\n",
    "update_param!(m_opt, :damages, :a2, 0.0023)\n",
    "update_param!(m_opt, :damages, :a3, 2.32)\n",
    "update_param!(m_opt, :damages, :g1, 0.115)\n",
    "update_param!(m_opt, :damages, :g2, 3.60)\n",
    "update_param!(m_opt, :damages, :PROT, 0.33 .* ones(100))"
   ]
  },
  {
   "cell_type": "code",
   "execution_count": 8,
   "metadata": {},
   "outputs": [],
   "source": [
    "run(m_opt)"
   ]
  },
  {
   "cell_type": "code",
   "execution_count": 9,
   "metadata": {},
   "outputs": [
    {
     "name": "stdout",
     "output_type": "stream",
     "text": [
      " 69.410138 seconds (210.19 M allocations: 8.854 GiB, 0.73% gc time, 0.29% compilation time)\n"
     ]
    },
    {
     "data": {
      "text/plain": [
       "(m = Mimi.Model\n",
       "  Module: Mimi\n",
       "  Components:\n",
       "    ComponentId(OptMimiDICE2016R2.totalfactorproductivity)\n",
       "    ComponentId(OptMimiDICE2016R2.grosseconomy)\n",
       "    ComponentId(OptMimiDICE2016R2.emissions)\n",
       "    ComponentId(OptMimiDICE2016R2.co2cycle)\n",
       "    ComponentId(OptMimiDICE2016R2.radiativeforcing)\n",
       "    ComponentId(OptMimiDICE2016R2.climatedynamics)\n",
       "    ComponentId(Main.modified_damages_adapt)\n",
       "    ComponentId(OptMimiDICE2016R2.neteconomy)\n",
       "    ComponentId(OptMimiDICE2016R2.welfare)\n",
       "  Dimensions:\n",
       "    time => [2015, 2020, 2025, 2030, 2035, 2040, 2045, 2050, 2055, 2060, 2065, 2070, 2075, 2080, 2085, 2090, 2095, 2100, 2105, 2110, 2115, 2120, 2125, 2130, 2135, 2140, 2145, 2150, 2155, 2160, 2165, 2170, 2175, 2180, 2185, 2190, 2195, 2200, 2205, 2210, 2215, 2220, 2225, 2230, 2235, 2240, 2245, 2250, 2255, 2260, 2265, 2270, 2275, 2280, 2285, 2290, 2295, 2300, 2305, 2310, 2315, 2320, 2325, 2330, 2335, 2340, 2345, 2350, 2355, 2360, 2365, 2370, 2375, 2380, 2385, 2390, 2395, 2400, 2405, 2410, 2415, 2420, 2425, 2430, 2435, 2440, 2445, 2450, 2455, 2460, 2465, 2470, 2475, 2480, 2485, 2490, 2495, 2500, 2505, 2510]\n",
       "  Internal Connections:\n",
       "    Mimi.InternalParameterConnection\n",
       "  src_comp_path: ComponentPath(Symbol(\"##ModelDef#225\"), :totalfactorproductivity)\n",
       "  src_var_name: :AL\n",
       "  dst_comp_path: ComponentPath(Symbol(\"##ModelDef#225\"), :grosseconomy)\n",
       "  dst_par_name: :AL\n",
       "  ignoreunits: false\n",
       "  backup: nothing\n",
       "  backup_offset: nothing\n",
       "    Mimi.InternalParameterConnection\n",
       "  src_comp_path: ComponentPath(Symbol(\"##ModelDef#225\"), :neteconomy)\n",
       "  src_var_name: :I\n",
       "  dst_comp_path: ComponentPath(Symbol(\"##ModelDef#225\"), :grosseconomy)\n",
       "  dst_par_name: :I\n",
       "  ignoreunits: false\n",
       "  backup: nothing\n",
       "  backup_offset: nothing\n",
       "    Mimi.InternalParameterConnection\n",
       "  src_comp_path: ComponentPath(Symbol(\"##ModelDef#225\"), :grosseconomy)\n",
       "  src_var_name: :YGROSS\n",
       "  dst_comp_path: ComponentPath(Symbol(\"##ModelDef#225\"), :emissions)\n",
       "  dst_par_name: :YGROSS\n",
       "  ignoreunits: false\n",
       "  backup: nothing\n",
       "  backup_offset: nothing\n",
       "    Mimi.InternalParameterConnection\n",
       "  src_comp_path: ComponentPath(Symbol(\"##ModelDef#225\"), :emissions)\n",
       "  src_var_name: :E\n",
       "  dst_comp_path: ComponentPath(Symbol(\"##ModelDef#225\"), :co2cycle)\n",
       "  dst_par_name: :E\n",
       "  ignoreunits: false\n",
       "  backup: nothing\n",
       "  backup_offset: nothing\n",
       "    Mimi.InternalParameterConnection\n",
       "  src_comp_path: ComponentPath(Symbol(\"##ModelDef#225\"), :co2cycle)\n",
       "  src_var_name: :MAT\n",
       "  dst_comp_path: ComponentPath(Symbol(\"##ModelDef#225\"), :radiativeforcing)\n",
       "  dst_par_name: :MAT\n",
       "  ignoreunits: false\n",
       "  backup: nothing\n",
       "  backup_offset: nothing\n",
       "    Mimi.InternalParameterConnection\n",
       "  src_comp_path: ComponentPath(Symbol(\"##ModelDef#225\"), :radiativeforcing)\n",
       "  src_var_name: :FORC\n",
       "  dst_comp_path: ComponentPath(Symbol(\"##ModelDef#225\"), :climatedynamics)\n",
       "  dst_par_name: :FORC\n",
       "  ignoreunits: false\n",
       "  backup: nothing\n",
       "  backup_offset: nothing\n",
       "    Mimi.InternalParameterConnection\n",
       "  src_comp_path: ComponentPath(Symbol(\"##ModelDef#225\"), :climatedynamics)\n",
       "  src_var_name: :TATM\n",
       "  dst_comp_path: ComponentPath(Symbol(\"##ModelDef#225\"), :damages)\n",
       "  dst_par_name: :TATM\n",
       "  ignoreunits: false\n",
       "  backup: nothing\n",
       "  backup_offset: nothing\n",
       "    Mimi.InternalParameterConnection\n",
       "  src_comp_path: ComponentPath(Symbol(\"##ModelDef#225\"), :grosseconomy)\n",
       "  src_var_name: :YGROSS\n",
       "  dst_comp_path: ComponentPath(Symbol(\"##ModelDef#225\"), :damages)\n",
       "  dst_par_name: :YGROSS\n",
       "  ignoreunits: false\n",
       "  backup: nothing\n",
       "  backup_offset: nothing\n",
       "    Mimi.InternalParameterConnection\n",
       "  src_comp_path: ComponentPath(Symbol(\"##ModelDef#225\"), :grosseconomy)\n",
       "  src_var_name: :YGROSS\n",
       "  dst_comp_path: ComponentPath(Symbol(\"##ModelDef#225\"), :neteconomy)\n",
       "  dst_par_name: :YGROSS\n",
       "  ignoreunits: false\n",
       "  backup: nothing\n",
       "  backup_offset: nothing\n",
       "    Mimi.InternalParameterConnection\n",
       "  src_comp_path: ComponentPath(Symbol(\"##ModelDef#225\"), :damages)\n",
       "  src_var_name: :DAMAGES\n",
       "  dst_comp_path: ComponentPath(Symbol(\"##ModelDef#225\"), :neteconomy)\n",
       "  dst_par_name: :DAMAGES\n",
       "  ignoreunits: false\n",
       "  backup: nothing\n",
       "  backup_offset: nothing\n",
       "    Mimi.InternalParameterConnection\n",
       "  src_comp_path: ComponentPath(Symbol(\"##ModelDef#225\"), :emissions)\n",
       "  src_var_name: :SIGMA\n",
       "  dst_comp_path: ComponentPath(Symbol(\"##ModelDef#225\"), :neteconomy)\n",
       "  dst_par_name: :SIGMA\n",
       "  ignoreunits: false\n",
       "  backup: nothing\n",
       "  backup_offset: nothing\n",
       "    Mimi.InternalParameterConnection\n",
       "  src_comp_path: ComponentPath(Symbol(\"##ModelDef#225\"), :neteconomy)\n",
       "  src_var_name: :CPC\n",
       "  dst_comp_path: ComponentPath(Symbol(\"##ModelDef#225\"), :welfare)\n",
       "  dst_par_name: :CPC\n",
       "  ignoreunits: false\n",
       "  backup: nothing\n",
       "  backup_offset: nothing\n",
       "  External Connections:\n",
       "    Mimi.ExternalParameterConnection\n",
       "  comp_path: ComponentPath(Symbol(\"##ModelDef#225\"), :totalfactorproductivity)\n",
       "  param_name: :a0\n",
       "  model_param_name: Symbol(\"##226\")\n",
       "    Mimi.ExternalParameterConnection\n",
       "  comp_path: ComponentPath(Symbol(\"##ModelDef#225\"), :totalfactorproductivity)\n",
       "  param_name: :ga0\n",
       "  model_param_name: Symbol(\"##227\")\n",
       "    Mimi.ExternalParameterConnection\n",
       "  comp_path: ComponentPath(Symbol(\"##ModelDef#225\"), :totalfactorproductivity)\n",
       "  param_name: :dela\n",
       "  model_param_name: Symbol(\"##228\")\n",
       "    Mimi.ExternalParameterConnection\n",
       "  comp_path: ComponentPath(Symbol(\"##ModelDef#225\"), :grosseconomy)\n",
       "  param_name: :dk\n",
       "  model_param_name: Symbol(\"##232\")\n",
       "    Mimi.ExternalParameterConnection\n",
       "  comp_path: ComponentPath(Symbol(\"##ModelDef#225\"), :grosseconomy)\n",
       "  param_name: :gama\n",
       "  model_param_name: Symbol(\"##233\")\n",
       "    Mimi.ExternalParameterConnection\n",
       "  comp_path: ComponentPath(Symbol(\"##ModelDef#225\"), :grosseconomy)\n",
       "  param_name: :k0\n",
       "  model_param_name: Symbol(\"##234\")\n",
       "    Mimi.ExternalParameterConnection\n",
       "  comp_path: ComponentPath(Symbol(\"##ModelDef#225\"), :emissions)\n",
       "  param_name: :gsigma1\n",
       "  model_param_name: Symbol(\"##235\")\n",
       "    Mimi.ExternalParameterConnection\n",
       "  comp_path: ComponentPath(Symbol(\"##ModelDef#225\"), :emissions)\n",
       "  param_name: :dsig\n",
       "  model_param_name: Symbol(\"##236\")\n",
       "    Mimi.ExternalParameterConnection\n",
       "  comp_path: ComponentPath(Symbol(\"##ModelDef#225\"), :emissions)\n",
       "  param_name: :eland0\n",
       "  model_param_name: Symbol(\"##237\")\n",
       "    Mimi.ExternalParameterConnection\n",
       "  comp_path: ComponentPath(Symbol(\"##ModelDef#225\"), :emissions)\n",
       "  param_name: :deland\n",
       "  model_param_name: Symbol(\"##238\")\n",
       "    Mimi.ExternalParameterConnection\n",
       "  comp_path: ComponentPath(Symbol(\"##ModelDef#225\"), :emissions)\n",
       "  param_name: :e0\n",
       "  model_param_name: Symbol(\"##239\")\n",
       "    Mimi.ExternalParameterConnection\n",
       "  comp_path: ComponentPath(Symbol(\"##ModelDef#225\"), :emissions)\n",
       "  param_name: :cca0\n",
       "  model_param_name: Symbol(\"##242\")\n",
       "    Mimi.ExternalParameterConnection\n",
       "  comp_path: ComponentPath(Symbol(\"##ModelDef#225\"), :emissions)\n",
       "  param_name: :cumetree0\n",
       "  model_param_name: Symbol(\"##243\")\n",
       "    Mimi.ExternalParameterConnection\n",
       "  comp_path: ComponentPath(Symbol(\"##ModelDef#225\"), :co2cycle)\n",
       "  param_name: :b12\n",
       "  model_param_name: Symbol(\"##244\")\n",
       "    Mimi.ExternalParameterConnection\n",
       "  comp_path: ComponentPath(Symbol(\"##ModelDef#225\"), :co2cycle)\n",
       "  param_name: :b23\n",
       "  model_param_name: Symbol(\"##245\")\n",
       "    Mimi.ExternalParameterConnection\n",
       "  comp_path: ComponentPath(Symbol(\"##ModelDef#225\"), :co2cycle)\n",
       "  param_name: :mateq\n",
       "  model_param_name: Symbol(\"##246\")\n",
       "    Mimi.ExternalParameterConnection\n",
       "  comp_path: ComponentPath(Symbol(\"##ModelDef#225\"), :co2cycle)\n",
       "  param_name: :mueq\n",
       "  model_param_name: Symbol(\"##247\")\n",
       "    Mimi.ExternalParameterConnection\n",
       "  comp_path: ComponentPath(Symbol(\"##ModelDef#225\"), :co2cycle)\n",
       "  param_name: :mleq\n",
       "  model_param_name: Symbol(\"##248\")\n",
       "    Mimi.ExternalParameterConnection\n",
       "  comp_path: ComponentPath(Symbol(\"##ModelDef#225\"), :co2cycle)\n",
       "  param_name: :mat0\n",
       "  model_param_name: Symbol(\"##250\")\n",
       "    Mimi.ExternalParameterConnection\n",
       "  comp_path: ComponentPath(Symbol(\"##ModelDef#225\"), :co2cycle)\n",
       "  param_name: :ml0\n",
       "  model_param_name: Symbol(\"##251\")\n",
       "    Mimi.ExternalParameterConnection\n",
       "  comp_path: ComponentPath(Symbol(\"##ModelDef#225\"), :co2cycle)\n",
       "  param_name: :mu0\n",
       "  model_param_name: Symbol(\"##252\")\n",
       "    Mimi.ExternalParameterConnection\n",
       "  comp_path: ComponentPath(Symbol(\"##ModelDef#225\"), :radiativeforcing)\n",
       "  param_name: :eqmat\n",
       "  model_param_name: Symbol(\"##254\")\n",
       "    Mimi.ExternalParameterConnection\n",
       "  comp_path: ComponentPath(Symbol(\"##ModelDef#225\"), :radiativeforcing)\n",
       "  param_name: :fex0\n",
       "  model_param_name: Symbol(\"##256\")\n",
       "    Mimi.ExternalParameterConnection\n",
       "  comp_path: ComponentPath(Symbol(\"##ModelDef#225\"), :radiativeforcing)\n",
       "  param_name: :fex1\n",
       "  model_param_name: Symbol(\"##257\")\n",
       "    Mimi.ExternalParameterConnection\n",
       "  comp_path: ComponentPath(Symbol(\"##ModelDef#225\"), :climatedynamics)\n",
       "  param_name: :t2xco2\n",
       "  model_param_name: Symbol(\"##260\")\n",
       "    Mimi.ExternalParameterConnection\n",
       "  comp_path: ComponentPath(Symbol(\"##ModelDef#225\"), :climatedynamics)\n",
       "  param_name: :tatm0\n",
       "  model_param_name: Symbol(\"##261\")\n",
       "    Mimi.ExternalParameterConnection\n",
       "  comp_path: ComponentPath(Symbol(\"##ModelDef#225\"), :climatedynamics)\n",
       "  param_name: :tocean0\n",
       "  model_param_name: Symbol(\"##262\")\n",
       "    Mimi.ExternalParameterConnection\n",
       "  comp_path: ComponentPath(Symbol(\"##ModelDef#225\"), :climatedynamics)\n",
       "  param_name: :c1\n",
       "  model_param_name: Symbol(\"##263\")\n",
       "    Mimi.ExternalParameterConnection\n",
       "  comp_path: ComponentPath(Symbol(\"##ModelDef#225\"), :climatedynamics)\n",
       "  param_name: :c3\n",
       "  model_param_name: Symbol(\"##264\")\n",
       "    Mimi.ExternalParameterConnection\n",
       "  comp_path: ComponentPath(Symbol(\"##ModelDef#225\"), :climatedynamics)\n",
       "  param_name: :c4\n",
       "  model_param_name: Symbol(\"##265\")\n",
       "    Mimi.ExternalParameterConnection\n",
       "  comp_path: ComponentPath(Symbol(\"##ModelDef#225\"), :damages)\n",
       "  param_name: :a1\n",
       "  model_param_name: Symbol(\"##268\")\n",
       "    Mimi.ExternalParameterConnection\n",
       "  comp_path: ComponentPath(Symbol(\"##ModelDef#225\"), :damages)\n",
       "  param_name: :a2\n",
       "  model_param_name: Symbol(\"##269\")\n",
       "    Mimi.ExternalParameterConnection\n",
       "  comp_path: ComponentPath(Symbol(\"##ModelDef#225\"), :damages)\n",
       "  param_name: :a3\n",
       "  model_param_name: Symbol(\"##270\")\n",
       "    Mimi.ExternalParameterConnection\n",
       "  comp_path: ComponentPath(Symbol(\"##ModelDef#225\"), :neteconomy)\n",
       "  param_name: :S\n",
       "  model_param_name: Symbol(\"##275\")\n",
       "    Mimi.ExternalParameterConnection\n",
       "  comp_path: ComponentPath(Symbol(\"##ModelDef#225\"), :neteconomy)\n",
       "  param_name: :expcost2\n",
       "  model_param_name: Symbol(\"##277\")\n",
       "    Mimi.ExternalParameterConnection\n",
       "  comp_path: ComponentPath(Symbol(\"##ModelDef#225\"), :neteconomy)\n",
       "  param_name: :pback\n",
       "  model_param_name: Symbol(\"##278\")\n",
       "    Mimi.ExternalParameterConnection\n",
       "  comp_path: ComponentPath(Symbol(\"##ModelDef#225\"), :neteconomy)\n",
       "  param_name: :gback\n",
       "  model_param_name: Symbol(\"##279\")\n",
       "    Mimi.ExternalParameterConnection\n",
       "  comp_path: ComponentPath(Symbol(\"##ModelDef#225\"), :welfare)\n",
       "  param_name: :rr\n",
       "  model_param_name: Symbol(\"##282\")\n",
       "    Mimi.ExternalParameterConnection\n",
       "  comp_path: ComponentPath(Symbol(\"##ModelDef#225\"), :welfare)\n",
       "  param_name: :elasmu\n",
       "  model_param_name: Symbol(\"##283\")\n",
       "    Mimi.ExternalParameterConnection\n",
       "  comp_path: ComponentPath(Symbol(\"##ModelDef#225\"), :welfare)\n",
       "  param_name: :scale1\n",
       "  model_param_name: Symbol(\"##284\")\n",
       "    Mimi.ExternalParameterConnection\n",
       "  comp_path: ComponentPath(Symbol(\"##ModelDef#225\"), :welfare)\n",
       "  param_name: :scale2\n",
       "  model_param_name: Symbol(\"##285\")\n",
       "    Mimi.ExternalParameterConnection\n",
       "  comp_path: ComponentPath(Symbol(\"##ModelDef#225\"), :climatedynamics)\n",
       "  param_name: :fco22x\n",
       "  model_param_name: :fco22x\n",
       "    Mimi.ExternalParameterConnection\n",
       "  comp_path: ComponentPath(Symbol(\"##ModelDef#225\"), :radiativeforcing)\n",
       "  param_name: :fco22x\n",
       "  model_param_name: :fco22x\n",
       "    Mimi.ExternalParameterConnection\n",
       "  comp_path: ComponentPath(Symbol(\"##ModelDef#225\"), :grosseconomy)\n",
       "  param_name: :l\n",
       "  model_param_name: :l\n",
       "    Mimi.ExternalParameterConnection\n",
       "  comp_path: ComponentPath(Symbol(\"##ModelDef#225\"), :neteconomy)\n",
       "  param_name: :l\n",
       "  model_param_name: :l\n",
       "    Mimi.ExternalParameterConnection\n",
       "  comp_path: ComponentPath(Symbol(\"##ModelDef#225\"), :welfare)\n",
       "  param_name: :l\n",
       "  model_param_name: :l\n",
       "    Mimi.ExternalParameterConnection\n",
       "  comp_path: ComponentPath(Symbol(\"##ModelDef#225\"), :neteconomy)\n",
       "  param_name: :MIU\n",
       "  model_param_name: :MIU\n",
       "    Mimi.ExternalParameterConnection\n",
       "  comp_path: ComponentPath(Symbol(\"##ModelDef#225\"), :emissions)\n",
       "  param_name: :MIU\n",
       "  model_param_name: :MIU\n",
       "    Mimi.ExternalParameterConnection\n",
       "  comp_path: ComponentPath(Symbol(\"##ModelDef#225\"), :damages)\n",
       "  param_name: :g1\n",
       "  model_param_name: Symbol(\"##286\")\n",
       "    Mimi.ExternalParameterConnection\n",
       "  comp_path: ComponentPath(Symbol(\"##ModelDef#225\"), :damages)\n",
       "  param_name: :g2\n",
       "  model_param_name: Symbol(\"##287\")\n",
       "    Mimi.ExternalParameterConnection\n",
       "  comp_path: ComponentPath(Symbol(\"##ModelDef#225\"), :damages)\n",
       "  param_name: :PROT\n",
       "  model_param_name: Symbol(\"##288\")\n",
       "  Backups: Symbol[]\n",
       "  Number type: Float64\n",
       "  Built: true\n",
       ", diagnostic = Dict{String, Any}(\"Maximum objective value\" => 4499.830339469523, \"Optimised policy economic vector\" => [0.039, 0.20067344896658396, 0.22706357403006727, 0.2570533471282038, 0.2886390181709927, 0.32310096504191044, 0.3592177332684128, 0.3985451214370823, 0.4399989644773694, 0.4848131757815406  …  0.24901296135098855, 0.24716948142256348, 0.24537804837070823, 0.24146715724165912, 0.23177132481662982, 0.2151449357063283, 0.19076582977351747, 0.13956451424101068, 0.010667929755628856, 0.0], \"Convergence result\" => :FTOL_REACHED))"
      ]
     },
     "metadata": {},
     "output_type": "display_data"
    }
   ],
   "source": [
    "@time m_opt, diagn = OptMimiDICE2016R2.optimise_model(m_opt)"
   ]
  },
  {
   "cell_type": "code",
   "execution_count": 10,
   "metadata": {},
   "outputs": [
    {
     "data": {
      "text/plain": [
       "Electron.Window(Application(Base.PipeEndpoint(RawFD(24) paused, 0 bytes waiting), Process(setenv(`\u001b[4m/Users/amila/.julia/artifacts/28d75c9551b709f4f8172bf33e631b433c6c68d6/Julia.app/Contents/MacOS/Julia\u001b[24m \u001b[4m/Users/amila/.julia/packages/Electron/LXyZ0/src/main.js\u001b[24m \u001b[4m/var/folders/7r/ghvh9rnj2zz9lnxjltftjs7m0000gn/T/jlel-037293462b2611ef01afd7a019fdf087\u001b[24m \u001b[4m/var/folders/7r/ghvh9rnj2zz9lnxjltftjs7m0000gn/T/jlel-sn-0372bb642b2611ef105239c135d98721\u001b[24m \u001b[4mWg+0dNGLBMDc+CpvgSX/dSzzUdzjkxc8Hd2fwPeNU9kn1SktPRP9+RWTd16vxDvK5Z69Ssvpex3jh+zyesJRKJnvO2RrXxl6GaVsIv+JUV47x0c2HY+1Ur2zfzpzFbm9HJQusMwV4i2ORuN7T27vEbCzxOvHHlPWVliV/MKO500=\u001b[24m`,[\"XPC_FLAGS=0x0\", \"COMMAND_MODE=unix2003\", \"CONDA_PROMPT_MODIFIER=(base) \", \"PATH=/opt/miniconda3/bin:/opt/miniconda3/condabin:/Users/amila/.juliaup/bin:/Library/Frameworks/Python.framework/Versions/3.12/bin:/usr/local/bin:/usr/bin:/bin:/usr/sbin:/sbin:/Library/TeX/texbin\", \"PWD=/\", \"VSCODE_CODE_CACHE_PATH=/Users/amila/Library/Application Support/Code/CachedData/e170252f762678dec6ca2cc69aba1570769a5d39\", \"VSCODE_HANDLES_UNCAUGHT_ERRORS=true\", \"XPC_SERVICE_NAME=application.com.microsoft.VSCode.18939631.18939637\", \"VSCODE_NLS_CONFIG={\\\"locale\\\":\\\"en-gb\\\",\\\"osLocale\\\":\\\"en-au\\\",\\\"availableLanguages\\\":{},\\\"_languagePackSupport\\\":true}\", \"CONDA_PYTHON_EXE=/opt/miniconda3/bin/python\"  …  \"CONDA_DEFAULT_ENV=base\", \"OPENBLAS_DEFAULT_NUM_THREADS=1\", \"USER=amila\", \"CONDA_SHLVL=1\", \"VSCODE_CRASH_REPORTER_PROCESS_TYPE=extensionHost\", \"CONDA_EXE=/opt/miniconda3/bin/conda\", \"HOME=/Users/amila\", \"JULIA_NUM_THREADS=\", \"OPENBLAS_MAIN_FREE=1\", \"VSCODE_CWD=/\"]), ProcessRunning), [1 window]), 1, true, Channel{Any}(128))"
      ]
     },
     "metadata": {},
     "output_type": "display_data"
    }
   ],
   "source": [
    "explore(m_opt)"
   ]
  }
 ],
 "metadata": {
  "kernelspec": {
   "display_name": "Julia 1.10.2",
   "language": "julia",
   "name": "julia-1.10"
  },
  "language_info": {
   "file_extension": ".jl",
   "mimetype": "application/julia",
   "name": "julia",
   "version": "1.10.2"
  }
 },
 "nbformat": 4,
 "nbformat_minor": 2
}
